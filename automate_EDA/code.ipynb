{
 "cells": [
  {
   "cell_type": "code",
   "execution_count": 1,
   "metadata": {},
   "outputs": [
    {
     "name": "stdout",
     "output_type": "stream",
     "text": [
      "Requirement already satisfied: dtale in a:\\project\\ml_project_01\\venv\\lib\\site-packages (3.9.0)\n",
      "Requirement already satisfied: dash-colorscales in a:\\project\\ml_project_01\\venv\\lib\\site-packages (from dtale) (0.0.4)\n",
      "Requirement already satisfied: dash-daq in a:\\project\\ml_project_01\\venv\\lib\\site-packages (from dtale) (0.5.0)\n",
      "Requirement already satisfied: Flask-Compress in a:\\project\\ml_project_01\\venv\\lib\\site-packages (from dtale) (1.14)\n",
      "Requirement already satisfied: future>=0.14.0 in a:\\project\\ml_project_01\\venv\\lib\\site-packages (from dtale) (0.18.3)\n",
      "Requirement already satisfied: kaleido in a:\\project\\ml_project_01\\venv\\lib\\site-packages (from dtale) (0.2.1)\n",
      "Requirement already satisfied: missingno in a:\\project\\ml_project_01\\venv\\lib\\site-packages (from dtale) (0.5.2)\n",
      "Requirement already satisfied: pandas in a:\\project\\ml_project_01\\venv\\lib\\site-packages (from dtale) (2.0.2)\n",
      "Requirement already satisfied: squarify in a:\\project\\ml_project_01\\venv\\lib\\site-packages (from dtale) (0.4.3)\n",
      "Requirement already satisfied: strsimpy in a:\\project\\ml_project_01\\venv\\lib\\site-packages (from dtale) (0.2.1)\n",
      "Requirement already satisfied: six in c:\\users\\asus\\appdata\\roaming\\python\\python39\\site-packages (from dtale) (1.15.0)\n",
      "Requirement already satisfied: xlrd in a:\\project\\ml_project_01\\venv\\lib\\site-packages (from dtale) (2.0.1)\n",
      "Requirement already satisfied: beautifulsoup4 in a:\\project\\ml_project_01\\venv\\lib\\site-packages (from dtale) (4.12.2)\n",
      "Requirement already satisfied: certifi in a:\\project\\ml_project_01\\venv\\lib\\site-packages (from dtale) (2023.11.17)\n",
      "Requirement already satisfied: flask-ngrok in a:\\project\\ml_project_01\\venv\\lib\\site-packages (from dtale) (0.0.25)\n",
      "Requirement already satisfied: lz4 in a:\\project\\ml_project_01\\venv\\lib\\site-packages (from dtale) (4.3.3)\n",
      "Requirement already satisfied: cycler in a:\\project\\ml_project_01\\venv\\lib\\site-packages (from dtale) (0.11.0)\n",
      "Requirement already satisfied: dash-bootstrap-components<=1.3.1 in a:\\project\\ml_project_01\\venv\\lib\\site-packages (from dtale) (1.3.1)\n",
      "Requirement already satisfied: dash in a:\\project\\ml_project_01\\venv\\lib\\site-packages (from dtale) (2.14.2)\n",
      "Requirement already satisfied: seaborn in a:\\project\\ml_project_01\\venv\\lib\\site-packages (from dtale) (0.12.2)\n",
      "Requirement already satisfied: statsmodels in a:\\project\\ml_project_01\\venv\\lib\\site-packages (from dtale) (0.14.1)\n",
      "Requirement already satisfied: werkzeug in a:\\project\\ml_project_01\\venv\\lib\\site-packages (from dtale) (3.0.1)\n",
      "Requirement already satisfied: networkx in a:\\project\\ml_project_01\\venv\\lib\\site-packages (from dtale) (3.2.1)\n",
      "Requirement already satisfied: scikit-learn in a:\\project\\ml_project_01\\venv\\lib\\site-packages (from dtale) (1.2.2)\n",
      "Requirement already satisfied: numpy in a:\\project\\ml_project_01\\venv\\lib\\site-packages (from dtale) (1.23.5)\n",
      "Requirement already satisfied: openpyxl!=3.2.0b1 in a:\\project\\ml_project_01\\venv\\lib\\site-packages (from dtale) (3.1.2)Note: you may need to restart the kernel to use updated packages.\n",
      "\n",
      "Requirement already satisfied: xarray in a:\\project\\ml_project_01\\venv\\lib\\site-packages (from dtale) (2023.12.0)\n",
      "Requirement already satisfied: et-xmlfile in a:\\project\\ml_project_01\\venv\\lib\\site-packages (from dtale) (1.1.0)\n",
      "Requirement already satisfied: plotly in a:\\project\\ml_project_01\\venv\\lib\\site-packages (from dtale) (5.15.0)\n",
      "Requirement already satisfied: Flask<2.3 in a:\\project\\ml_project_01\\venv\\lib\\site-packages (from dtale) (2.2.5)\n",
      "Requirement already satisfied: itsdangerous in a:\\project\\ml_project_01\\venv\\lib\\site-packages (from dtale) (2.1.2)\n",
      "Requirement already satisfied: requests in a:\\project\\ml_project_01\\venv\\lib\\site-packages (from dtale) (2.31.0)\n",
      "Requirement already satisfied: contourpy in a:\\project\\ml_project_01\\venv\\lib\\site-packages (from dtale) (1.1.0)\n",
      "Requirement already satisfied: matplotlib in a:\\project\\ml_project_01\\venv\\lib\\site-packages (from dtale) (3.7.1)\n",
      "Requirement already satisfied: scipy!=1.12.0rc1 in a:\\project\\ml_project_01\\venv\\lib\\site-packages (from dtale) (1.10.1)\n",
      "Requirement already satisfied: dash-html-components==2.0.0 in a:\\project\\ml_project_01\\venv\\lib\\site-packages (from dash->dtale) (2.0.0)\n",
      "Requirement already satisfied: dash-core-components==2.0.0 in a:\\project\\ml_project_01\\venv\\lib\\site-packages (from dash->dtale) (2.0.0)\n",
      "Requirement already satisfied: dash-table==5.0.0 in a:\\project\\ml_project_01\\venv\\lib\\site-packages (from dash->dtale) (5.0.0)\n",
      "Requirement already satisfied: typing-extensions>=4.1.1 in a:\\project\\ml_project_01\\venv\\lib\\site-packages (from dash->dtale) (4.9.0)\n",
      "Requirement already satisfied: retrying in a:\\project\\ml_project_01\\venv\\lib\\site-packages (from dash->dtale) (1.3.4)\n",
      "Requirement already satisfied: ansi2html in a:\\project\\ml_project_01\\venv\\lib\\site-packages (from dash->dtale) (1.9.1)\n",
      "Requirement already satisfied: nest-asyncio in a:\\project\\ml_project_01\\venv\\lib\\site-packages (from dash->dtale) (1.5.6)\n",
      "Requirement already satisfied: setuptools in a:\\project\\ml_project_01\\venv\\lib\\site-packages (from dash->dtale) (67.7.2)\n",
      "Requirement already satisfied: importlib-metadata in a:\\project\\ml_project_01\\venv\\lib\\site-packages (from dash->dtale) (6.6.0)\n",
      "Requirement already satisfied: Jinja2>=3.0 in a:\\project\\ml_project_01\\venv\\lib\\site-packages (from Flask<2.3->dtale) (3.1.2)\n",
      "Requirement already satisfied: click>=8.0 in a:\\project\\ml_project_01\\venv\\lib\\site-packages (from Flask<2.3->dtale) (8.1.7)\n",
      "Requirement already satisfied: tenacity>=6.2.0 in a:\\project\\ml_project_01\\venv\\lib\\site-packages (from plotly->dtale) (8.2.2)\n",
      "Requirement already satisfied: packaging in a:\\project\\ml_project_01\\venv\\lib\\site-packages (from plotly->dtale) (23.1)\n",
      "Requirement already satisfied: MarkupSafe>=2.1.1 in a:\\project\\ml_project_01\\venv\\lib\\site-packages (from werkzeug->dtale) (2.1.3)\n",
      "Requirement already satisfied: soupsieve>1.2 in a:\\project\\ml_project_01\\venv\\lib\\site-packages (from beautifulsoup4->dtale) (2.5)\n",
      "Requirement already satisfied: brotli in a:\\project\\ml_project_01\\venv\\lib\\site-packages (from Flask-Compress->dtale) (1.1.0)\n",
      "Requirement already satisfied: fonttools>=4.22.0 in a:\\project\\ml_project_01\\venv\\lib\\site-packages (from matplotlib->dtale) (4.40.0)\n",
      "Requirement already satisfied: kiwisolver>=1.0.1 in a:\\project\\ml_project_01\\venv\\lib\\site-packages (from matplotlib->dtale) (1.4.4)\n",
      "Requirement already satisfied: pillow>=6.2.0 in a:\\project\\ml_project_01\\venv\\lib\\site-packages (from matplotlib->dtale) (9.5.0)\n",
      "Requirement already satisfied: pyparsing>=2.3.1 in a:\\project\\ml_project_01\\venv\\lib\\site-packages (from matplotlib->dtale) (3.0.9)\n",
      "Requirement already satisfied: python-dateutil>=2.7 in a:\\project\\ml_project_01\\venv\\lib\\site-packages (from matplotlib->dtale) (2.8.2)\n",
      "Requirement already satisfied: importlib-resources>=3.2.0 in a:\\project\\ml_project_01\\venv\\lib\\site-packages (from matplotlib->dtale) (5.12.0)\n",
      "Requirement already satisfied: pytz>=2020.1 in a:\\project\\ml_project_01\\venv\\lib\\site-packages (from pandas->dtale) (2023.3)\n",
      "Requirement already satisfied: tzdata>=2022.1 in a:\\project\\ml_project_01\\venv\\lib\\site-packages (from pandas->dtale) (2023.3)\n",
      "Requirement already satisfied: charset-normalizer<4,>=2 in a:\\project\\ml_project_01\\venv\\lib\\site-packages (from requests->dtale) (3.3.2)\n",
      "Requirement already satisfied: idna<4,>=2.5 in a:\\project\\ml_project_01\\venv\\lib\\site-packages (from requests->dtale) (3.4)\n",
      "Requirement already satisfied: urllib3<3,>=1.21.1 in a:\\project\\ml_project_01\\venv\\lib\\site-packages (from requests->dtale) (1.26.16)\n",
      "Requirement already satisfied: joblib>=1.1.1 in a:\\project\\ml_project_01\\venv\\lib\\site-packages (from scikit-learn->dtale) (1.2.0)\n",
      "Requirement already satisfied: threadpoolctl>=2.0.0 in a:\\project\\ml_project_01\\venv\\lib\\site-packages (from scikit-learn->dtale) (3.1.0)\n",
      "Requirement already satisfied: patsy>=0.5.4 in a:\\project\\ml_project_01\\venv\\lib\\site-packages (from statsmodels->dtale) (0.5.6)\n",
      "Requirement already satisfied: colorama in a:\\project\\ml_project_01\\venv\\lib\\site-packages (from click>=8.0->Flask<2.3->dtale) (0.4.6)\n",
      "Requirement already satisfied: zipp>=0.5 in a:\\project\\ml_project_01\\venv\\lib\\site-packages (from importlib-metadata->dash->dtale) (3.15.0)\n"
     ]
    }
   ],
   "source": [
    "pip install dtale"
   ]
  },
  {
   "cell_type": "code",
   "execution_count": 2,
   "metadata": {},
   "outputs": [],
   "source": [
    "import seaborn as sns\n",
    "df = sns.load_dataset('titanic')"
   ]
  },
  {
   "cell_type": "code",
   "execution_count": 3,
   "metadata": {},
   "outputs": [
    {
     "data": {
      "text/html": [
       "\n",
       "        <iframe\n",
       "            width=\"100%\"\n",
       "            height=\"475\"\n",
       "            src=\"http://ASUSVIVOBOOK:40000/dtale/iframe/1\"\n",
       "            frameborder=\"0\"\n",
       "            allowfullscreen\n",
       "        ></iframe>\n",
       "        "
      ],
      "text/plain": [
       "<IPython.lib.display.IFrame at 0x1c3a0c77a30>"
      ]
     },
     "metadata": {},
     "output_type": "display_data"
    },
    {
     "data": {
      "text/plain": []
     },
     "execution_count": 3,
     "metadata": {},
     "output_type": "execute_result"
    }
   ],
   "source": [
    "import dtale \n",
    "dtale.show(df)"
   ]
  },
  {
   "cell_type": "code",
   "execution_count": 4,
   "metadata": {},
   "outputs": [
    {
     "name": "stdout",
     "output_type": "stream",
     "text": [
      "Requirement already satisfied: pandas-profiling in a:\\project\\ml_project_01\\venv\\lib\\site-packages (3.6.6)\n",
      "Requirement already satisfied: ydata-profiling in a:\\project\\ml_project_01\\venv\\lib\\site-packages (from pandas-profiling) (4.6.4)\n",
      "Requirement already satisfied: scipy<1.12,>=1.4.1 in a:\\project\\ml_project_01\\venv\\lib\\site-packages (from ydata-profiling->pandas-profiling) (1.10.1)\n",
      "Requirement already satisfied: pandas!=1.4.0,<3,>1.1 in a:\\project\\ml_project_01\\venv\\lib\\site-packages (from ydata-profiling->pandas-profiling) (2.0.2)\n",
      "Requirement already satisfied: matplotlib<3.9,>=3.2 in a:\\project\\ml_project_01\\venv\\lib\\site-packages (from ydata-profiling->pandas-profiling) (3.7.1)\n",
      "Requirement already satisfied: pydantic>=2 in a:\\project\\ml_project_01\\venv\\lib\\site-packages (from ydata-profiling->pandas-profiling) (2.5.3)\n",
      "Requirement already satisfied: PyYAML<6.1,>=5.0.0 in a:\\project\\ml_project_01\\venv\\lib\\site-packages (from ydata-profiling->pandas-profiling) (6.0.1)\n",
      "Requirement already satisfied: jinja2<3.2,>=2.11.1 in a:\\project\\ml_project_01\\venv\\lib\\site-packages (from ydata-profiling->pandas-profiling) (3.1.2)\n",
      "Requirement already satisfied: visions[type_image_path]==0.7.5 in a:\\project\\ml_project_01\\venv\\lib\\site-packages (from ydata-profiling->pandas-profiling) (0.7.5)\n",
      "Requirement already satisfied: numpy<1.26,>=1.16.0 in a:\\project\\ml_project_01\\venv\\lib\\site-packages (from ydata-profiling->pandas-profiling) (1.23.5)\n",
      "Requirement already satisfied: htmlmin==0.1.12 in a:\\project\\ml_project_01\\venv\\lib\\site-packages (from ydata-profiling->pandas-profiling) (0.1.12)\n",
      "Requirement already satisfied: phik<0.13,>=0.11.1 in a:\\project\\ml_project_01\\venv\\lib\\site-packages (from ydata-profiling->pandas-profiling) (0.12.4)\n",
      "Requirement already satisfied: requests<3,>=2.24.0 in a:\\project\\ml_project_01\\venv\\lib\\site-packages (from ydata-profiling->pandas-profiling) (2.31.0)\n",
      "Requirement already satisfied: tqdm<5,>=4.48.2 in a:\\project\\ml_project_01\\venv\\lib\\site-packages (from ydata-profiling->pandas-profiling) (4.66.1)\n",
      "Requirement already satisfied: seaborn<0.13,>=0.10.1 in a:\\project\\ml_project_01\\venv\\lib\\site-packages (from ydata-profiling->pandas-profiling) (0.12.2)\n",
      "Requirement already satisfied: multimethod<2,>=1.4 in a:\\project\\ml_project_01\\venv\\lib\\site-packages (from ydata-profiling->pandas-profiling) (1.10)\n",
      "Requirement already satisfied: statsmodels<1,>=0.13.2 in a:\\project\\ml_project_01\\venv\\lib\\site-packages (from ydata-profiling->pandas-profiling) (0.14.1)\n",
      "Requirement already satisfied: typeguard<5,>=4.1.2 in a:\\project\\ml_project_01\\venv\\lib\\site-packages (from ydata-profiling->pandas-profiling) (4.1.5)\n",
      "Requirement already satisfied: imagehash==4.3.1 in a:\\project\\ml_project_01\\venv\\lib\\site-packages (from ydata-profiling->pandas-profiling) (4.3.1)\n",
      "Requirement already satisfied: wordcloud>=1.9.1 in a:\\project\\ml_project_01\\venv\\lib\\site-packages (from ydata-profiling->pandas-profiling) (1.9.3)\n",
      "Requirement already satisfied: dacite>=1.8 in a:\\project\\ml_project_01\\venv\\lib\\site-packages (from ydata-profiling->pandas-profiling) (1.8.1)\n",
      "Requirement already satisfied: numba<0.59.0,>=0.56.0 in a:\\project\\ml_project_01\\venv\\lib\\site-packages (from ydata-profiling->pandas-profiling) (0.58.1)\n",
      "Requirement already satisfied: PyWavelets in a:\\project\\ml_project_01\\venv\\lib\\site-packages (from imagehash==4.3.1->ydata-profiling->pandas-profiling) (1.5.0)\n",
      "Requirement already satisfied: pillow in a:\\project\\ml_project_01\\venv\\lib\\site-packages (from imagehash==4.3.1->ydata-profiling->pandas-profiling) (9.5.0)\n",
      "Requirement already satisfied: attrs>=19.3.0 in a:\\project\\ml_project_01\\venv\\lib\\site-packages (from visions[type_image_path]==0.7.5->ydata-profiling->pandas-profiling) (23.1.0)\n",
      "Requirement already satisfied: networkx>=2.4 in a:\\project\\ml_project_01\\venv\\lib\\site-packages (from visions[type_image_path]==0.7.5->ydata-profiling->pandas-profiling) (3.2.1)\n",
      "Requirement already satisfied: tangled-up-in-unicode>=0.0.4 in a:\\project\\ml_project_01\\venv\\lib\\site-packages (from visions[type_image_path]==0.7.5->ydata-profiling->pandas-profiling) (0.2.0)\n",
      "Requirement already satisfied: MarkupSafe>=2.0 in a:\\project\\ml_project_01\\venv\\lib\\site-packages (from jinja2<3.2,>=2.11.1->ydata-profiling->pandas-profiling) (2.1.3)\n",
      "Requirement already satisfied: contourpy>=1.0.1 in a:\\project\\ml_project_01\\venv\\lib\\site-packages (from matplotlib<3.9,>=3.2->ydata-profiling->pandas-profiling) (1.1.0)\n",
      "Requirement already satisfied: cycler>=0.10 in a:\\project\\ml_project_01\\venv\\lib\\site-packages (from matplotlib<3.9,>=3.2->ydata-profiling->pandas-profiling) (0.11.0)\n",
      "Requirement already satisfied: fonttools>=4.22.0 in a:\\project\\ml_project_01\\venv\\lib\\site-packages (from matplotlib<3.9,>=3.2->ydata-profiling->pandas-profiling) (4.40.0)\n",
      "Requirement already satisfied: kiwisolver>=1.0.1 in a:\\project\\ml_project_01\\venv\\lib\\site-packages (from matplotlib<3.9,>=3.2->ydata-profiling->pandas-profiling) (1.4.4)\n",
      "Requirement already satisfied: packaging>=20.0 in a:\\project\\ml_project_01\\venv\\lib\\site-packages (from matplotlib<3.9,>=3.2->ydata-profiling->pandas-profiling) (23.1)\n",
      "Requirement already satisfied: pyparsing>=2.3.1 in a:\\project\\ml_project_01\\venv\\lib\\site-packages (from matplotlib<3.9,>=3.2->ydata-profiling->pandas-profiling) (3.0.9)\n",
      "Requirement already satisfied: python-dateutil>=2.7 in a:\\project\\ml_project_01\\venv\\lib\\site-packages (from matplotlib<3.9,>=3.2->ydata-profiling->pandas-profiling) (2.8.2)\n",
      "Requirement already satisfied: importlib-resources>=3.2.0 in a:\\project\\ml_project_01\\venv\\lib\\site-packages (from matplotlib<3.9,>=3.2->ydata-profiling->pandas-profiling) (5.12.0)\n",
      "Requirement already satisfied: llvmlite<0.42,>=0.41.0dev0 in a:\\project\\ml_project_01\\venv\\lib\\site-packages (from numba<0.59.0,>=0.56.0->ydata-profiling->pandas-profiling) (0.41.1)\n",
      "Requirement already satisfied: pytz>=2020.1 in a:\\project\\ml_project_01\\venv\\lib\\site-packages (from pandas!=1.4.0,<3,>1.1->ydata-profiling->pandas-profiling) (2023.3)\n",
      "Requirement already satisfied: tzdata>=2022.1 in a:\\project\\ml_project_01\\venv\\lib\\site-packages (from pandas!=1.4.0,<3,>1.1->ydata-profiling->pandas-profiling) (2023.3)\n",
      "Requirement already satisfied: joblib>=0.14.1 in a:\\project\\ml_project_01\\venv\\lib\\site-packages (from phik<0.13,>=0.11.1->ydata-profiling->pandas-profiling) (1.2.0)\n",
      "Requirement already satisfied: annotated-types>=0.4.0 in a:\\project\\ml_project_01\\venv\\lib\\site-packages (from pydantic>=2->ydata-profiling->pandas-profiling) (0.6.0)\n",
      "Requirement already satisfied: pydantic-core==2.14.6 in a:\\project\\ml_project_01\\venv\\lib\\site-packages (from pydantic>=2->ydata-profiling->pandas-profiling) (2.14.6)\n",
      "Requirement already satisfied: typing-extensions>=4.6.1 in a:\\project\\ml_project_01\\venv\\lib\\site-packages (from pydantic>=2->ydata-profiling->pandas-profiling) (4.9.0)\n",
      "Requirement already satisfied: charset-normalizer<4,>=2 in a:\\project\\ml_project_01\\venv\\lib\\site-packages (from requests<3,>=2.24.0->ydata-profiling->pandas-profiling) (3.3.2)\n",
      "Requirement already satisfied: idna<4,>=2.5 in a:\\project\\ml_project_01\\venv\\lib\\site-packages (from requests<3,>=2.24.0->ydata-profiling->pandas-profiling) (3.4)\n",
      "Requirement already satisfied: urllib3<3,>=1.21.1 in a:\\project\\ml_project_01\\venv\\lib\\site-packages (from requests<3,>=2.24.0->ydata-profiling->pandas-profiling) (1.26.16)\n",
      "Requirement already satisfied: certifi>=2017.4.17 in a:\\project\\ml_project_01\\venv\\lib\\site-packages (from requests<3,>=2.24.0->ydata-profiling->pandas-profiling) (2023.11.17)\n",
      "Requirement already satisfied: patsy>=0.5.4 in a:\\project\\ml_project_01\\venv\\lib\\site-packages (from statsmodels<1,>=0.13.2->ydata-profiling->pandas-profiling) (0.5.6)\n",
      "Requirement already satisfied: colorama in a:\\project\\ml_project_01\\venv\\lib\\site-packages (from tqdm<5,>=4.48.2->ydata-profiling->pandas-profiling) (0.4.6)\n",
      "Requirement already satisfied: importlib-metadata>=3.6 in a:\\project\\ml_project_01\\venv\\lib\\site-packages (from typeguard<5,>=4.1.2->ydata-profiling->pandas-profiling) (6.6.0)\n",
      "Requirement already satisfied: zipp>=0.5 in a:\\project\\ml_project_01\\venv\\lib\\site-packages (from importlib-metadata>=3.6->typeguard<5,>=4.1.2->ydata-profiling->pandas-profiling) (3.15.0)\n",
      "Requirement already satisfied: six in c:\\users\\asus\\appdata\\roaming\\python\\python39\\site-packages (from patsy>=0.5.4->statsmodels<1,>=0.13.2->ydata-profiling->pandas-profiling) (1.15.0)\n",
      "Note: you may need to restart the kernel to use updated packages.\n"
     ]
    }
   ],
   "source": [
    "pip install pandas-profiling"
   ]
  },
  {
   "cell_type": "code",
   "execution_count": 10,
   "metadata": {},
   "outputs": [
    {
     "name": "stdout",
     "output_type": "stream",
     "text": [
      "Collecting pandas-profiling==3.0.0\n",
      "  Downloading pandas_profiling-3.0.0-py2.py3-none-any.whl (248 kB)\n",
      "     ------------------------------------ 248.5/248.5 kB 692.6 kB/s eta 0:00:00\n",
      "Collecting pydantic==1.8.2\n",
      "  Downloading pydantic-1.8.2-cp39-cp39-win_amd64.whl (1.9 MB)\n",
      "     ---------------------------------------- 1.9/1.9 MB 251.2 kB/s eta 0:00:00\n",
      "Requirement already satisfied: joblib in a:\\project\\ml_project_01\\venv\\lib\\site-packages (from pandas-profiling==3.0.0) (1.2.0)\n",
      "Requirement already satisfied: scipy>=1.4.1 in a:\\project\\ml_project_01\\venv\\lib\\site-packages (from pandas-profiling==3.0.0) (1.10.1)\n",
      "Requirement already satisfied: pandas!=1.0.0,!=1.0.1,!=1.0.2,!=1.1.0,>=0.25.3 in a:\\project\\ml_project_01\\venv\\lib\\site-packages (from pandas-profiling==3.0.0) (2.0.2)\n",
      "Requirement already satisfied: matplotlib>=3.2.0 in a:\\project\\ml_project_01\\venv\\lib\\site-packages (from pandas-profiling==3.0.0) (3.7.1)\n",
      "Requirement already satisfied: PyYAML>=5.0.0 in a:\\project\\ml_project_01\\venv\\lib\\site-packages (from pandas-profiling==3.0.0) (6.0.1)\n",
      "Requirement already satisfied: jinja2>=2.11.1 in a:\\project\\ml_project_01\\venv\\lib\\site-packages (from pandas-profiling==3.0.0) (3.1.2)\n",
      "Collecting visions[type_image_path]==0.7.1 (from pandas-profiling==3.0.0)\n",
      "  Downloading visions-0.7.1-py3-none-any.whl (102 kB)\n",
      "     ------------------------------------ 103.0/103.0 kB 269.6 kB/s eta 0:00:00\n",
      "Requirement already satisfied: numpy>=1.16.0 in a:\\project\\ml_project_01\\venv\\lib\\site-packages (from pandas-profiling==3.0.0) (1.23.5)\n",
      "Requirement already satisfied: htmlmin>=0.1.12 in a:\\project\\ml_project_01\\venv\\lib\\site-packages (from pandas-profiling==3.0.0) (0.1.12)\n",
      "Requirement already satisfied: missingno>=0.4.2 in a:\\project\\ml_project_01\\venv\\lib\\site-packages (from pandas-profiling==3.0.0) (0.5.2)\n",
      "Requirement already satisfied: phik>=0.11.1 in a:\\project\\ml_project_01\\venv\\lib\\site-packages (from pandas-profiling==3.0.0) (0.12.4)\n",
      "Collecting tangled-up-in-unicode==0.1.0 (from pandas-profiling==3.0.0)\n",
      "  Downloading tangled_up_in_unicode-0.1.0-py3-none-any.whl (3.1 MB)\n",
      "     ---------------------------------------- 3.1/3.1 MB 185.1 kB/s eta 0:00:00\n",
      "Requirement already satisfied: requests>=2.24.0 in a:\\project\\ml_project_01\\venv\\lib\\site-packages (from pandas-profiling==3.0.0) (2.31.0)\n",
      "Requirement already satisfied: tqdm>=4.48.2 in a:\\project\\ml_project_01\\venv\\lib\\site-packages (from pandas-profiling==3.0.0) (4.66.1)\n",
      "Requirement already satisfied: seaborn>=0.10.1 in a:\\project\\ml_project_01\\venv\\lib\\site-packages (from pandas-profiling==3.0.0) (0.12.2)\n",
      "Requirement already satisfied: typing-extensions>=3.7.4.3 in a:\\project\\ml_project_01\\venv\\lib\\site-packages (from pydantic==1.8.2) (4.9.0)\n",
      "Requirement already satisfied: attrs>=19.3.0 in a:\\project\\ml_project_01\\venv\\lib\\site-packages (from visions[type_image_path]==0.7.1->pandas-profiling==3.0.0) (23.1.0)\n",
      "Requirement already satisfied: networkx>=2.4 in a:\\project\\ml_project_01\\venv\\lib\\site-packages (from visions[type_image_path]==0.7.1->pandas-profiling==3.0.0) (3.2.1)\n",
      "Collecting bottleneck (from visions[type_image_path]==0.7.1->pandas-profiling==3.0.0)\n",
      "  Downloading Bottleneck-1.3.7-cp39-cp39-win_amd64.whl (109 kB)\n",
      "     ------------------------------------ 109.9/109.9 kB 318.4 kB/s eta 0:00:00\n",
      "Collecting multimethod==1.4 (from visions[type_image_path]==0.7.1->pandas-profiling==3.0.0)\n",
      "  Downloading multimethod-1.4-py2.py3-none-any.whl (7.3 kB)Note: you may need to restart the kernel to use updated packages.\n",
      "\n"
     ]
    },
    {
     "name": "stderr",
     "output_type": "stream",
     "text": [
      "ERROR: pip's dependency resolver does not currently take into account all the packages that are installed. This behaviour is the source of the following dependency conflicts.\n",
      "ydata-profiling 4.6.4 requires pydantic>=2, but you have pydantic 1.8.2 which is incompatible.\n",
      "ydata-profiling 4.6.4 requires visions[type_image_path]==0.7.5, but you have visions 0.7.1 which is incompatible.\n"
     ]
    },
    {
     "name": "stdout",
     "output_type": "stream",
     "text": [
      "Requirement already satisfied: imagehash in a:\\project\\ml_project_01\\venv\\lib\\site-packages (from visions[type_image_path]==0.7.1->pandas-profiling==3.0.0) (4.3.1)\n",
      "Requirement already satisfied: Pillow in a:\\project\\ml_project_01\\venv\\lib\\site-packages (from visions[type_image_path]==0.7.1->pandas-profiling==3.0.0) (9.5.0)\n",
      "Requirement already satisfied: MarkupSafe>=2.0 in a:\\project\\ml_project_01\\venv\\lib\\site-packages (from jinja2>=2.11.1->pandas-profiling==3.0.0) (2.1.3)\n",
      "Requirement already satisfied: contourpy>=1.0.1 in a:\\project\\ml_project_01\\venv\\lib\\site-packages (from matplotlib>=3.2.0->pandas-profiling==3.0.0) (1.1.0)\n",
      "Requirement already satisfied: cycler>=0.10 in a:\\project\\ml_project_01\\venv\\lib\\site-packages (from matplotlib>=3.2.0->pandas-profiling==3.0.0) (0.11.0)\n",
      "Requirement already satisfied: fonttools>=4.22.0 in a:\\project\\ml_project_01\\venv\\lib\\site-packages (from matplotlib>=3.2.0->pandas-profiling==3.0.0) (4.40.0)\n",
      "Requirement already satisfied: kiwisolver>=1.0.1 in a:\\project\\ml_project_01\\venv\\lib\\site-packages (from matplotlib>=3.2.0->pandas-profiling==3.0.0) (1.4.4)\n",
      "Requirement already satisfied: packaging>=20.0 in a:\\project\\ml_project_01\\venv\\lib\\site-packages (from matplotlib>=3.2.0->pandas-profiling==3.0.0) (23.1)\n",
      "Requirement already satisfied: pyparsing>=2.3.1 in a:\\project\\ml_project_01\\venv\\lib\\site-packages (from matplotlib>=3.2.0->pandas-profiling==3.0.0) (3.0.9)\n",
      "Requirement already satisfied: python-dateutil>=2.7 in a:\\project\\ml_project_01\\venv\\lib\\site-packages (from matplotlib>=3.2.0->pandas-profiling==3.0.0) (2.8.2)\n",
      "Requirement already satisfied: importlib-resources>=3.2.0 in a:\\project\\ml_project_01\\venv\\lib\\site-packages (from matplotlib>=3.2.0->pandas-profiling==3.0.0) (5.12.0)\n",
      "Requirement already satisfied: pytz>=2020.1 in a:\\project\\ml_project_01\\venv\\lib\\site-packages (from pandas!=1.0.0,!=1.0.1,!=1.0.2,!=1.1.0,>=0.25.3->pandas-profiling==3.0.0) (2023.3)\n",
      "Requirement already satisfied: tzdata>=2022.1 in a:\\project\\ml_project_01\\venv\\lib\\site-packages (from pandas!=1.0.0,!=1.0.1,!=1.0.2,!=1.1.0,>=0.25.3->pandas-profiling==3.0.0) (2023.3)\n",
      "Requirement already satisfied: charset-normalizer<4,>=2 in a:\\project\\ml_project_01\\venv\\lib\\site-packages (from requests>=2.24.0->pandas-profiling==3.0.0) (3.3.2)\n",
      "Requirement already satisfied: idna<4,>=2.5 in a:\\project\\ml_project_01\\venv\\lib\\site-packages (from requests>=2.24.0->pandas-profiling==3.0.0) (3.4)\n",
      "Requirement already satisfied: urllib3<3,>=1.21.1 in a:\\project\\ml_project_01\\venv\\lib\\site-packages (from requests>=2.24.0->pandas-profiling==3.0.0) (1.26.16)\n",
      "Requirement already satisfied: certifi>=2017.4.17 in a:\\project\\ml_project_01\\venv\\lib\\site-packages (from requests>=2.24.0->pandas-profiling==3.0.0) (2023.11.17)\n",
      "Requirement already satisfied: colorama in a:\\project\\ml_project_01\\venv\\lib\\site-packages (from tqdm>=4.48.2->pandas-profiling==3.0.0) (0.4.6)\n",
      "Requirement already satisfied: zipp>=3.1.0 in a:\\project\\ml_project_01\\venv\\lib\\site-packages (from importlib-resources>=3.2.0->matplotlib>=3.2.0->pandas-profiling==3.0.0) (3.15.0)\n",
      "Requirement already satisfied: six>=1.5 in c:\\users\\asus\\appdata\\roaming\\python\\python39\\site-packages (from python-dateutil>=2.7->matplotlib>=3.2.0->pandas-profiling==3.0.0) (1.15.0)\n",
      "Requirement already satisfied: PyWavelets in a:\\project\\ml_project_01\\venv\\lib\\site-packages (from imagehash->visions[type_image_path]==0.7.1->pandas-profiling==3.0.0) (1.5.0)\n",
      "Installing collected packages: tangled-up-in-unicode, pydantic, multimethod, bottleneck, visions, pandas-profiling\n",
      "  Attempting uninstall: tangled-up-in-unicode\n",
      "    Found existing installation: tangled-up-in-unicode 0.2.0\n",
      "    Uninstalling tangled-up-in-unicode-0.2.0:\n",
      "      Successfully uninstalled tangled-up-in-unicode-0.2.0\n",
      "  Attempting uninstall: pydantic\n",
      "    Found existing installation: pydantic 2.5.3\n",
      "    Uninstalling pydantic-2.5.3:\n",
      "      Successfully uninstalled pydantic-2.5.3\n",
      "  Attempting uninstall: multimethod\n",
      "    Found existing installation: multimethod 1.10\n",
      "    Uninstalling multimethod-1.10:\n",
      "      Successfully uninstalled multimethod-1.10\n",
      "  Attempting uninstall: visions\n",
      "    Found existing installation: visions 0.7.5\n",
      "    Uninstalling visions-0.7.5:\n",
      "      Successfully uninstalled visions-0.7.5\n",
      "  Attempting uninstall: pandas-profiling\n",
      "    Found existing installation: pandas-profiling 3.6.6\n",
      "    Uninstalling pandas-profiling-3.6.6:\n",
      "      Successfully uninstalled pandas-profiling-3.6.6\n",
      "Successfully installed bottleneck-1.3.7 multimethod-1.4 pandas-profiling-3.0.0 pydantic-1.8.2 tangled-up-in-unicode-0.1.0 visions-0.7.1\n"
     ]
    }
   ],
   "source": [
    "pip install pandas-profiling==3.0.0  pydantic==1.8.2"
   ]
  },
  {
   "cell_type": "code",
   "execution_count": null,
   "metadata": {},
   "outputs": [],
   "source": [
    "import seaborn as sns\n",
    "from pandas_profiling import ProfileReport \n",
    "\n",
    "data_1 = sns.load_dataset(\"tipd\")\n",
    "profile =ProfileReport(data_1,explorative=True)\n",
    "profile.to_file(\"output.html\")"
   ]
  },
  {
   "cell_type": "code",
   "execution_count": null,
   "metadata": {},
   "outputs": [],
   "source": [
    "pip install pandasgui"
   ]
  },
  {
   "cell_type": "code",
   "execution_count": null,
   "metadata": {},
   "outputs": [],
   "source": [
    "import seaborn as sns\n",
    "from pandasgui import show\n",
    "\n",
    "data_1 = sns.load_dataset(\"tips\")\n",
    "gui = show(data_1)"
   ]
  },
  {
   "cell_type": "code",
   "execution_count": 18,
   "metadata": {},
   "outputs": [],
   "source": [
    "import seaborn as sns\n",
    "\n",
    "data_1 = sns.load_dataset(\"tips\")\n"
   ]
  },
  {
   "cell_type": "code",
   "execution_count": 20,
   "metadata": {},
   "outputs": [
    {
     "name": "stdout",
     "output_type": "stream",
     "text": [
      "Collecting sweetviz\n",
      "  Downloading sweetviz-2.3.1-py3-none-any.whl (15.1 MB)\n",
      "     -------------------------------------- 15.1/15.1 MB 608.9 kB/s eta 0:00:00\n",
      "Requirement already satisfied: pandas!=1.0.0,!=1.0.1,!=1.0.2,>=0.25.3 in a:\\project\\ml_project_01\\venv\\lib\\site-packages (from sweetviz) (2.0.2)\n",
      "Requirement already satisfied: numpy>=1.16.0 in a:\\project\\ml_project_01\\venv\\lib\\site-packages (from sweetviz) (1.23.5)Note: you may need to restart the kernel to use updated packages.\n",
      "\n",
      "Requirement already satisfied: matplotlib>=3.1.3 in a:\\project\\ml_project_01\\venv\\lib\\site-packages (from sweetviz) (3.7.1)\n",
      "Requirement already satisfied: tqdm>=4.43.0 in a:\\project\\ml_project_01\\venv\\lib\\site-packages (from sweetviz) (4.66.1)\n",
      "Requirement already satisfied: scipy>=1.3.2 in a:\\project\\ml_project_01\\venv\\lib\\site-packages (from sweetviz) (1.10.1)\n",
      "Requirement already satisfied: jinja2>=2.11.1 in a:\\project\\ml_project_01\\venv\\lib\\site-packages (from sweetviz) (3.1.2)\n",
      "Requirement already satisfied: importlib-resources>=1.2.0 in a:\\project\\ml_project_01\\venv\\lib\\site-packages (from sweetviz) (5.12.0)\n",
      "Requirement already satisfied: zipp>=3.1.0 in a:\\project\\ml_project_01\\venv\\lib\\site-packages (from importlib-resources>=1.2.0->sweetviz) (3.15.0)\n",
      "Requirement already satisfied: MarkupSafe>=2.0 in a:\\project\\ml_project_01\\venv\\lib\\site-packages (from jinja2>=2.11.1->sweetviz) (2.1.3)\n",
      "Requirement already satisfied: contourpy>=1.0.1 in a:\\project\\ml_project_01\\venv\\lib\\site-packages (from matplotlib>=3.1.3->sweetviz) (1.1.0)\n",
      "Requirement already satisfied: cycler>=0.10 in a:\\project\\ml_project_01\\venv\\lib\\site-packages (from matplotlib>=3.1.3->sweetviz) (0.11.0)\n",
      "Requirement already satisfied: fonttools>=4.22.0 in a:\\project\\ml_project_01\\venv\\lib\\site-packages (from matplotlib>=3.1.3->sweetviz) (4.40.0)\n",
      "Requirement already satisfied: kiwisolver>=1.0.1 in a:\\project\\ml_project_01\\venv\\lib\\site-packages (from matplotlib>=3.1.3->sweetviz) (1.4.4)\n",
      "Requirement already satisfied: packaging>=20.0 in a:\\project\\ml_project_01\\venv\\lib\\site-packages (from matplotlib>=3.1.3->sweetviz) (23.1)\n",
      "Requirement already satisfied: pillow>=6.2.0 in a:\\project\\ml_project_01\\venv\\lib\\site-packages (from matplotlib>=3.1.3->sweetviz) (9.5.0)\n",
      "Requirement already satisfied: pyparsing>=2.3.1 in a:\\project\\ml_project_01\\venv\\lib\\site-packages (from matplotlib>=3.1.3->sweetviz) (3.0.9)\n",
      "Requirement already satisfied: python-dateutil>=2.7 in a:\\project\\ml_project_01\\venv\\lib\\site-packages (from matplotlib>=3.1.3->sweetviz) (2.8.2)\n",
      "Requirement already satisfied: pytz>=2020.1 in a:\\project\\ml_project_01\\venv\\lib\\site-packages (from pandas!=1.0.0,!=1.0.1,!=1.0.2,>=0.25.3->sweetviz) (2023.3)\n",
      "Requirement already satisfied: tzdata>=2022.1 in a:\\project\\ml_project_01\\venv\\lib\\site-packages (from pandas!=1.0.0,!=1.0.1,!=1.0.2,>=0.25.3->sweetviz) (2023.3)\n",
      "Requirement already satisfied: colorama in a:\\project\\ml_project_01\\venv\\lib\\site-packages (from tqdm>=4.43.0->sweetviz) (0.4.6)\n",
      "Requirement already satisfied: six>=1.5 in c:\\users\\asus\\appdata\\roaming\\python\\python39\\site-packages (from python-dateutil>=2.7->matplotlib>=3.1.3->sweetviz) (1.15.0)\n",
      "Installing collected packages: sweetviz\n",
      "Successfully installed sweetviz-2.3.1\n"
     ]
    }
   ],
   "source": [
    "pip install sweetviz"
   ]
  },
  {
   "cell_type": "code",
   "execution_count": 21,
   "metadata": {},
   "outputs": [
    {
     "name": "stderr",
     "output_type": "stream",
     "text": [
      "Done! Use 'show' commands to display/save.   |██████████| [100%]   00:01 -> (00:00 left)\n"
     ]
    },
    {
     "name": "stdout",
     "output_type": "stream",
     "text": [
      "Report sweet_report.html was generated! NOTEBOOK/COLAB USERS: the web browser MAY not pop up, regardless, the report IS saved in your notebook/colab files.\n"
     ]
    }
   ],
   "source": [
    "import sweetviz as sv \n",
    "\n",
    "report = sv.analyze(data_1)\n",
    "report.show_html('sweet_report.html')"
   ]
  },
  {
   "cell_type": "code",
   "execution_count": null,
   "metadata": {},
   "outputs": [],
   "source": []
  }
 ],
 "metadata": {
  "kernelspec": {
   "display_name": "Python 3",
   "language": "python",
   "name": "python3"
  },
  "language_info": {
   "codemirror_mode": {
    "name": "ipython",
    "version": 3
   },
   "file_extension": ".py",
   "mimetype": "text/x-python",
   "name": "python",
   "nbconvert_exporter": "python",
   "pygments_lexer": "ipython3",
   "version": "3.9.16"
  }
 },
 "nbformat": 4,
 "nbformat_minor": 2
}
